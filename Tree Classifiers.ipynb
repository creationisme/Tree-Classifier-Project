{
 "cells": [
  {
   "cell_type": "markdown",
   "id": "4085cc8e-5443-4b64-a0ce-1773a3f643ef",
   "metadata": {},
   "source": [
    "# Building and Examining Tree Based Classifiers on Customer Segmentation Data"
   ]
  },
  {
   "cell_type": "markdown",
   "id": "750409ce-0afe-4978-ab96-dc3fca7ab833",
   "metadata": {},
   "source": [
    "## ML Models used: Decision Tree, Random Forest"
   ]
  },
  {
   "cell_type": "markdown",
   "id": "6cbd451b-11b9-4ccc-bf78-2c6b0636378f",
   "metadata": {},
   "source": [
    "## Importing Libraries"
   ]
  },
  {
   "cell_type": "code",
   "execution_count": 174,
   "id": "913b2b66-07f6-4c93-9ee0-fa84f40baea8",
   "metadata": {},
   "outputs": [],
   "source": [
    "import numpy as np\n",
    "import pandas as pd\n",
    "import matplotlib.pyplot as plt\n",
    "import seaborn as sns"
   ]
  },
  {
   "cell_type": "markdown",
   "id": "4d05e10f-0759-4e55-bcef-bfa3e678ab9b",
   "metadata": {},
   "source": [
    "## Loading the dataset"
   ]
  },
  {
   "cell_type": "markdown",
   "id": "0011ee2b-786c-408f-bd3b-27eb706c9d51",
   "metadata": {},
   "source": [
    "Dataset link: https://www.kaggle.com/datasets/kaushiksuresh147/customer-segmentation"
   ]
  },
  {
   "cell_type": "markdown",
   "id": "97e3e22a-88d0-41b3-a123-2f964132f847",
   "metadata": {},
   "source": [
    "The dataset on kaggle is split into train and test in separate csv files. However, here we combine them into one csv file: _\"trainandtest.csv\"_ to utilise all datapoints and perform cross validation later using our ML Models for testing."
   ]
  },
  {
   "cell_type": "code",
   "execution_count": 203,
   "id": "1e4e8b1e-dd20-4141-9ebf-518851bbc2d6",
   "metadata": {},
   "outputs": [],
   "source": [
    "df = pd.read_csv(r\"C:\\Users\\srish\\ml girly\\ML Proj 1\\Customer Segmentation\\Train.csv\")"
   ]
  },
  {
   "cell_type": "code",
   "execution_count": 205,
   "id": "098bce9b-5edd-4ab5-aa7b-11236e4d5221",
   "metadata": {},
   "outputs": [
    {
     "data": {
      "text/html": [
       "<div>\n",
       "<style scoped>\n",
       "    .dataframe tbody tr th:only-of-type {\n",
       "        vertical-align: middle;\n",
       "    }\n",
       "\n",
       "    .dataframe tbody tr th {\n",
       "        vertical-align: top;\n",
       "    }\n",
       "\n",
       "    .dataframe thead th {\n",
       "        text-align: right;\n",
       "    }\n",
       "</style>\n",
       "<table border=\"1\" class=\"dataframe\">\n",
       "  <thead>\n",
       "    <tr style=\"text-align: right;\">\n",
       "      <th></th>\n",
       "      <th>ID</th>\n",
       "      <th>Gender</th>\n",
       "      <th>Ever_Married</th>\n",
       "      <th>Age</th>\n",
       "      <th>Graduated</th>\n",
       "      <th>Profession</th>\n",
       "      <th>Work_Experience</th>\n",
       "      <th>Spending_Score</th>\n",
       "      <th>Family_Size</th>\n",
       "      <th>Var_1</th>\n",
       "      <th>Segmentation</th>\n",
       "    </tr>\n",
       "  </thead>\n",
       "  <tbody>\n",
       "    <tr>\n",
       "      <th>0</th>\n",
       "      <td>462809</td>\n",
       "      <td>Male</td>\n",
       "      <td>No</td>\n",
       "      <td>22</td>\n",
       "      <td>No</td>\n",
       "      <td>Healthcare</td>\n",
       "      <td>1.0</td>\n",
       "      <td>Low</td>\n",
       "      <td>4.0</td>\n",
       "      <td>Cat_4</td>\n",
       "      <td>D</td>\n",
       "    </tr>\n",
       "    <tr>\n",
       "      <th>1</th>\n",
       "      <td>462643</td>\n",
       "      <td>Female</td>\n",
       "      <td>Yes</td>\n",
       "      <td>38</td>\n",
       "      <td>Yes</td>\n",
       "      <td>Engineer</td>\n",
       "      <td>NaN</td>\n",
       "      <td>Average</td>\n",
       "      <td>3.0</td>\n",
       "      <td>Cat_4</td>\n",
       "      <td>A</td>\n",
       "    </tr>\n",
       "    <tr>\n",
       "      <th>2</th>\n",
       "      <td>466315</td>\n",
       "      <td>Female</td>\n",
       "      <td>Yes</td>\n",
       "      <td>67</td>\n",
       "      <td>Yes</td>\n",
       "      <td>Engineer</td>\n",
       "      <td>1.0</td>\n",
       "      <td>Low</td>\n",
       "      <td>1.0</td>\n",
       "      <td>Cat_6</td>\n",
       "      <td>B</td>\n",
       "    </tr>\n",
       "    <tr>\n",
       "      <th>3</th>\n",
       "      <td>461735</td>\n",
       "      <td>Male</td>\n",
       "      <td>Yes</td>\n",
       "      <td>67</td>\n",
       "      <td>Yes</td>\n",
       "      <td>Lawyer</td>\n",
       "      <td>0.0</td>\n",
       "      <td>High</td>\n",
       "      <td>2.0</td>\n",
       "      <td>Cat_6</td>\n",
       "      <td>B</td>\n",
       "    </tr>\n",
       "    <tr>\n",
       "      <th>4</th>\n",
       "      <td>462669</td>\n",
       "      <td>Female</td>\n",
       "      <td>Yes</td>\n",
       "      <td>40</td>\n",
       "      <td>Yes</td>\n",
       "      <td>Entertainment</td>\n",
       "      <td>NaN</td>\n",
       "      <td>High</td>\n",
       "      <td>6.0</td>\n",
       "      <td>Cat_6</td>\n",
       "      <td>A</td>\n",
       "    </tr>\n",
       "  </tbody>\n",
       "</table>\n",
       "</div>"
      ],
      "text/plain": [
       "       ID  Gender Ever_Married  Age Graduated     Profession  Work_Experience  \\\n",
       "0  462809    Male           No   22        No     Healthcare              1.0   \n",
       "1  462643  Female          Yes   38       Yes       Engineer              NaN   \n",
       "2  466315  Female          Yes   67       Yes       Engineer              1.0   \n",
       "3  461735    Male          Yes   67       Yes         Lawyer              0.0   \n",
       "4  462669  Female          Yes   40       Yes  Entertainment              NaN   \n",
       "\n",
       "  Spending_Score  Family_Size  Var_1 Segmentation  \n",
       "0            Low          4.0  Cat_4            D  \n",
       "1        Average          3.0  Cat_4            A  \n",
       "2            Low          1.0  Cat_6            B  \n",
       "3           High          2.0  Cat_6            B  \n",
       "4           High          6.0  Cat_6            A  "
      ]
     },
     "execution_count": 205,
     "metadata": {},
     "output_type": "execute_result"
    }
   ],
   "source": [
    "df.head()"
   ]
  },
  {
   "cell_type": "code",
   "execution_count": 306,
   "id": "d8d25570-7ba7-4058-96eb-8b576747bfee",
   "metadata": {},
   "outputs": [
    {
     "data": {
      "text/plain": [
       "(8068, 10)"
      ]
     },
     "execution_count": 306,
     "metadata": {},
     "output_type": "execute_result"
    }
   ],
   "source": [
    "df.shape"
   ]
  },
  {
   "cell_type": "code",
   "execution_count": 395,
   "id": "0d7ed832-caec-48f5-815e-070f8a1039cc",
   "metadata": {},
   "outputs": [],
   "source": [
    "# can do EDA"
   ]
  },
  {
   "cell_type": "markdown",
   "id": "3e53962a-827d-4c28-b1dd-19acc1af31a9",
   "metadata": {},
   "source": [
    "## Data Cleaning"
   ]
  },
  {
   "cell_type": "code",
   "execution_count": 208,
   "id": "da3c54ec-5a06-45a8-ac52-286906626370",
   "metadata": {},
   "outputs": [
    {
     "data": {
      "text/plain": [
       "0"
      ]
     },
     "execution_count": 208,
     "metadata": {},
     "output_type": "execute_result"
    }
   ],
   "source": [
    "df.duplicated().sum()\n",
    "# 0 complete duplicates"
   ]
  },
  {
   "cell_type": "code",
   "execution_count": 210,
   "id": "a26fbd2e-a327-4d6d-8a6e-310f7f6d8253",
   "metadata": {},
   "outputs": [
    {
     "data": {
      "text/plain": [
       "0"
      ]
     },
     "execution_count": 210,
     "metadata": {},
     "output_type": "execute_result"
    }
   ],
   "source": [
    "df.duplicated(subset = 'ID').sum()\n",
    "# 0 duplicates wrt Customer ID\n",
    "# performing just another check"
   ]
  },
  {
   "cell_type": "code",
   "execution_count": 212,
   "id": "25830976-48d0-424a-9944-284820c592c3",
   "metadata": {},
   "outputs": [
    {
     "data": {
      "text/plain": [
       "ID                   0\n",
       "Gender               0\n",
       "Ever_Married       140\n",
       "Age                  0\n",
       "Graduated           78\n",
       "Profession         124\n",
       "Work_Experience    829\n",
       "Spending_Score       0\n",
       "Family_Size        335\n",
       "Var_1               76\n",
       "Segmentation         0\n",
       "dtype: int64"
      ]
     },
     "execution_count": 212,
     "metadata": {},
     "output_type": "execute_result"
    }
   ],
   "source": [
    "df.isna().sum()\n",
    "# multiple NA values in multiple columns"
   ]
  },
  {
   "cell_type": "markdown",
   "id": "2b974a0d-829a-4849-8ef2-908c374b6aed",
   "metadata": {
    "jp-MarkdownHeadingCollapsed": true
   },
   "source": [
    "### checking how features with missing values are distributed"
   ]
  },
  {
   "cell_type": "code",
   "execution_count": 215,
   "id": "76528b04-f71e-4773-be61-7151abb2f9a8",
   "metadata": {},
   "outputs": [
    {
     "data": {
      "text/plain": [
       "Text(0.5, 1.0, 'Ever Married Distribution')"
      ]
     },
     "execution_count": 215,
     "metadata": {},
     "output_type": "execute_result"
    },
    {
     "data": {
      "image/png": "[encoded data removed]",
      "text/plain": [
       "<Figure size 1000x600 with 1 Axes>"
      ]
     },
     "metadata": {},
     "output_type": "display_data"
    }
   ],
   "source": [
    "plt.figure(figsize=(10,6))\n",
    "df['Ever_Married'].hist(bins=5)\n",
    "plt.title('Ever Married Distribution')"
   ]
  },
  {
   "cell_type": "code",
   "execution_count": 216,
   "id": "2979cbfa-684a-40b7-bb4a-e60f07dc40a5",
   "metadata": {},
   "outputs": [
    {
     "data": {
      "text/plain": [
       "Text(0.5, 1.0, 'Work Experience Distribution')"
      ]
     },
     "execution_count": 216,
     "metadata": {},
     "output_type": "execute_result"
    },
    {
     "data": {
      "image/png": "[encoded data removed]",
      "text/plain": [
       "<Figure size 1000x600 with 1 Axes>"
      ]
     },
     "metadata": {},
     "output_type": "display_data"
    }
   ],
   "source": [
    "plt.figure(figsize=(10,6))\n",
    "df['Work_Experience'].hist(bins=30)\n",
    "plt.title('Work Experience Distribution')"
   ]
  },
  {
   "cell_type": "code",
   "execution_count": 218,
   "id": "dc2a4b86-89c7-4cd0-b436-4447491732f0",
   "metadata": {},
   "outputs": [],
   "source": [
    "#sns.histplot(data=df,x='Work_Experience')\n",
    "# majority datapoints with <=1 year of Work Experience"
   ]
  },
  {
   "cell_type": "code",
   "execution_count": 219,
   "id": "a78971c9-aa33-4bf1-9669-72c164e35435",
   "metadata": {},
   "outputs": [
    {
     "data": {
      "text/plain": [
       "Text(0.5, 1.0, 'Profession Distribution')"
      ]
     },
     "execution_count": 219,
     "metadata": {},
     "output_type": "execute_result"
    },
    {
     "data": {
      "image/png": "[encoded data removed]",
      "text/plain": [
       "<Figure size 1000x600 with 1 Axes>"
      ]
     },
     "metadata": {},
     "output_type": "display_data"
    }
   ],
   "source": [
    "plt.figure(figsize=(10,6))\n",
    "df['Profession'].hist(bins=20)\n",
    "plt.title('Profession Distribution')"
   ]
  },
  {
   "cell_type": "code",
   "execution_count": 221,
   "id": "cbee275c-a389-43ff-aeb4-ece5f1cded63",
   "metadata": {},
   "outputs": [
    {
     "data": {
      "text/plain": [
       "Text(0.5, 1.0, 'Graduated Distribution')"
      ]
     },
     "execution_count": 221,
     "metadata": {},
     "output_type": "execute_result"
    },
    {
     "data": {
      "image/png": "[encoded data removed]",
      "text/plain": [
       "<Figure size 1000x600 with 1 Axes>"
      ]
     },
     "metadata": {},
     "output_type": "display_data"
    }
   ],
   "source": [
    "plt.figure(figsize=(10,6))\n",
    "df['Graduated'].hist(bins=5)\n",
    "plt.title('Graduated Distribution')"
   ]
  },
  {
   "cell_type": "code",
   "execution_count": 223,
   "id": "520acf01-335c-4b01-906a-e7afc154cf95",
   "metadata": {},
   "outputs": [
    {
     "data": {
      "text/plain": [
       "Text(0.5, 1.0, 'Family Size Distribution')"
      ]
     },
     "execution_count": 223,
     "metadata": {},
     "output_type": "execute_result"
    },
    {
     "data": {
      "image/png": "[encoded data removed]",
      "text/plain": [
       "<Figure size 1000x600 with 1 Axes>"
      ]
     },
     "metadata": {},
     "output_type": "display_data"
    }
   ],
   "source": [
    "plt.figure(figsize=(10,6))\n",
    "df['Family_Size'].hist(bins=20)\n",
    "plt.title('Family Size Distribution')"
   ]
  },
  {
   "cell_type": "code",
   "execution_count": 224,
   "id": "73a3790a-ef43-4e9a-bce1-afae2b4dd4b7",
   "metadata": {},
   "outputs": [
    {
     "data": {
      "text/plain": [
       "Text(0.5, 1.0, 'Anonymous Variable Distribution')"
      ]
     },
     "execution_count": 224,
     "metadata": {},
     "output_type": "execute_result"
    },
    {
     "data": {
      "image/png": "[encoded data removed]",
      "text/plain": [
       "<Figure size 1000x600 with 1 Axes>"
      ]
     },
     "metadata": {},
     "output_type": "display_data"
    }
   ],
   "source": [
    "plt.figure(figsize=(10,6))\n",
    "df['Var_1'].hist(bins=15)\n",
    "plt.title('Anonymous Variable Distribution')"
   ]
  },
  {
   "cell_type": "markdown",
   "id": "f98c1237-de28-4ab7-91b3-0d6887a8f8cc",
   "metadata": {},
   "source": [
    "### we can impute missing observations via forward filling"
   ]
  },
  {
   "cell_type": "code",
   "execution_count": 287,
   "id": "af4bb630-5c70-4a01-bea8-eb0742450627",
   "metadata": {},
   "outputs": [],
   "source": [
    "# could have removed rows with NA values as well\n",
    "df['Ever_Married'] = df['Ever_Married'].ffill()\n",
    "df['Family_Size'] = df['Family_Size'].ffill()\n",
    "df['Graduated'] = df['Graduated'].ffill()\n",
    "df['Profession'] = df['Profession'].ffill()\n",
    "df['Work_Experience'] = df['Work_Experience'].ffill()\n",
    "df['Var_1'] = df['Var_1'].ffill()"
   ]
  },
  {
   "cell_type": "code",
   "execution_count": 289,
   "id": "5711b4fd-744f-45c0-8ebf-d02c5bd2bd2d",
   "metadata": {},
   "outputs": [
    {
     "data": {
      "text/plain": [
       "Gender             0\n",
       "Ever_Married       0\n",
       "Age                0\n",
       "Graduated          0\n",
       "Profession         0\n",
       "Work_Experience    0\n",
       "Spending_Score     0\n",
       "Family_Size        0\n",
       "Var_1              0\n",
       "Segmentation       0\n",
       "dtype: int64"
      ]
     },
     "execution_count": 289,
     "metadata": {},
     "output_type": "execute_result"
    }
   ],
   "source": [
    "df.isna().sum()"
   ]
  },
  {
   "cell_type": "markdown",
   "id": "989a4971-ef5b-4cbe-a072-6e7802f5f7d7",
   "metadata": {},
   "source": [
    "## Data Preprocessing"
   ]
  },
  {
   "cell_type": "markdown",
   "id": "cf353ccd-5be7-4dd6-a995-a7fbc94ac77c",
   "metadata": {},
   "source": [
    "Most of our features are categorical. However, not all machine learning algorithms can handle categorical data as inputs. Thus, we convert them into numerical inputs."
   ]
  },
  {
   "cell_type": "code",
   "execution_count": 325,
   "id": "e1f59711-b7ff-4af2-919e-157fe2128dfc",
   "metadata": {},
   "outputs": [],
   "source": [
    "categorical_features = ['Gender','Ever_Married','Graduated','Profession','Spending_Score','Var_1','Segmentation']"
   ]
  },
  {
   "cell_type": "code",
   "execution_count": 327,
   "id": "e334fe4f-4895-4ca6-ad0f-e795a2fb650d",
   "metadata": {},
   "outputs": [],
   "source": [
    "from sklearn.preprocessing import LabelEncoder "
   ]
  },
  {
   "cell_type": "code",
   "execution_count": 329,
   "id": "1bc55ea4-f04a-41d4-880b-fc9ac997218b",
   "metadata": {},
   "outputs": [],
   "source": [
    "for i in categorical_features:\n",
    "    le = LabelEncoder()\n",
    "    y = le.fit_transform(df[i])\n",
    "    df[i] = y"
   ]
  },
  {
   "cell_type": "code",
   "execution_count": 331,
   "id": "e30440fa-cadc-4d26-80a6-0658304d18e1",
   "metadata": {},
   "outputs": [
    {
     "data": {
      "text/html": [
       "<div>\n",
       "<style scoped>\n",
       "    .dataframe tbody tr th:only-of-type {\n",
       "        vertical-align: middle;\n",
       "    }\n",
       "\n",
       "    .dataframe tbody tr th {\n",
       "        vertical-align: top;\n",
       "    }\n",
       "\n",
       "    .dataframe thead th {\n",
       "        text-align: right;\n",
       "    }\n",
       "</style>\n",
       "<table border=\"1\" class=\"dataframe\">\n",
       "  <thead>\n",
       "    <tr style=\"text-align: right;\">\n",
       "      <th></th>\n",
       "      <th>Gender</th>\n",
       "      <th>Ever_Married</th>\n",
       "      <th>Age</th>\n",
       "      <th>Graduated</th>\n",
       "      <th>Profession</th>\n",
       "      <th>Work_Experience</th>\n",
       "      <th>Spending_Score</th>\n",
       "      <th>Family_Size</th>\n",
       "      <th>Var_1</th>\n",
       "      <th>Segmentation</th>\n",
       "    </tr>\n",
       "  </thead>\n",
       "  <tbody>\n",
       "    <tr>\n",
       "      <th>0</th>\n",
       "      <td>1</td>\n",
       "      <td>0</td>\n",
       "      <td>22</td>\n",
       "      <td>0</td>\n",
       "      <td>5</td>\n",
       "      <td>1.0</td>\n",
       "      <td>2</td>\n",
       "      <td>4.0</td>\n",
       "      <td>3</td>\n",
       "      <td>3</td>\n",
       "    </tr>\n",
       "    <tr>\n",
       "      <th>1</th>\n",
       "      <td>0</td>\n",
       "      <td>1</td>\n",
       "      <td>38</td>\n",
       "      <td>1</td>\n",
       "      <td>2</td>\n",
       "      <td>1.0</td>\n",
       "      <td>0</td>\n",
       "      <td>3.0</td>\n",
       "      <td>3</td>\n",
       "      <td>0</td>\n",
       "    </tr>\n",
       "    <tr>\n",
       "      <th>2</th>\n",
       "      <td>0</td>\n",
       "      <td>1</td>\n",
       "      <td>67</td>\n",
       "      <td>1</td>\n",
       "      <td>2</td>\n",
       "      <td>1.0</td>\n",
       "      <td>2</td>\n",
       "      <td>1.0</td>\n",
       "      <td>5</td>\n",
       "      <td>1</td>\n",
       "    </tr>\n",
       "    <tr>\n",
       "      <th>3</th>\n",
       "      <td>1</td>\n",
       "      <td>1</td>\n",
       "      <td>67</td>\n",
       "      <td>1</td>\n",
       "      <td>7</td>\n",
       "      <td>0.0</td>\n",
       "      <td>1</td>\n",
       "      <td>2.0</td>\n",
       "      <td>5</td>\n",
       "      <td>1</td>\n",
       "    </tr>\n",
       "    <tr>\n",
       "      <th>4</th>\n",
       "      <td>0</td>\n",
       "      <td>1</td>\n",
       "      <td>40</td>\n",
       "      <td>1</td>\n",
       "      <td>3</td>\n",
       "      <td>0.0</td>\n",
       "      <td>1</td>\n",
       "      <td>6.0</td>\n",
       "      <td>5</td>\n",
       "      <td>0</td>\n",
       "    </tr>\n",
       "  </tbody>\n",
       "</table>\n",
       "</div>"
      ],
      "text/plain": [
       "   Gender  Ever_Married  Age  Graduated  Profession  Work_Experience  \\\n",
       "0       1             0   22          0           5              1.0   \n",
       "1       0             1   38          1           2              1.0   \n",
       "2       0             1   67          1           2              1.0   \n",
       "3       1             1   67          1           7              0.0   \n",
       "4       0             1   40          1           3              0.0   \n",
       "\n",
       "   Spending_Score  Family_Size  Var_1  Segmentation  \n",
       "0               2          4.0      3             3  \n",
       "1               0          3.0      3             0  \n",
       "2               2          1.0      5             1  \n",
       "3               1          2.0      5             1  \n",
       "4               1          6.0      5             0  "
      ]
     },
     "execution_count": 331,
     "metadata": {},
     "output_type": "execute_result"
    }
   ],
   "source": [
    "df.head()"
   ]
  },
  {
   "cell_type": "code",
   "execution_count": 245,
   "id": "c0fd67f7-66f4-4757-801d-b1dd8422062a",
   "metadata": {},
   "outputs": [],
   "source": [
    "df.drop('ID', axis = 1, inplace = True)\n",
    "# we drop ID column since it does not help in model building, since it is unique for each Customer"
   ]
  },
  {
   "cell_type": "code",
   "execution_count": 247,
   "id": "65d76cc3-bc97-476a-aed5-cc5de35aae58",
   "metadata": {},
   "outputs": [
    {
     "data": {
      "text/html": [
       "<div>\n",
       "<style scoped>\n",
       "    .dataframe tbody tr th:only-of-type {\n",
       "        vertical-align: middle;\n",
       "    }\n",
       "\n",
       "    .dataframe tbody tr th {\n",
       "        vertical-align: top;\n",
       "    }\n",
       "\n",
       "    .dataframe thead th {\n",
       "        text-align: right;\n",
       "    }\n",
       "</style>\n",
       "<table border=\"1\" class=\"dataframe\">\n",
       "  <thead>\n",
       "    <tr style=\"text-align: right;\">\n",
       "      <th></th>\n",
       "      <th>Gender</th>\n",
       "      <th>Ever_Married</th>\n",
       "      <th>Age</th>\n",
       "      <th>Graduated</th>\n",
       "      <th>Profession</th>\n",
       "      <th>Work_Experience</th>\n",
       "      <th>Spending_Score</th>\n",
       "      <th>Family_Size</th>\n",
       "      <th>Var_1</th>\n",
       "      <th>Segmentation</th>\n",
       "    </tr>\n",
       "  </thead>\n",
       "  <tbody>\n",
       "    <tr>\n",
       "      <th>0</th>\n",
       "      <td>1</td>\n",
       "      <td>0</td>\n",
       "      <td>22</td>\n",
       "      <td>0</td>\n",
       "      <td>5</td>\n",
       "      <td>1.0</td>\n",
       "      <td>2</td>\n",
       "      <td>4.0</td>\n",
       "      <td>3</td>\n",
       "      <td>D</td>\n",
       "    </tr>\n",
       "    <tr>\n",
       "      <th>1</th>\n",
       "      <td>0</td>\n",
       "      <td>1</td>\n",
       "      <td>38</td>\n",
       "      <td>1</td>\n",
       "      <td>2</td>\n",
       "      <td>1.0</td>\n",
       "      <td>0</td>\n",
       "      <td>3.0</td>\n",
       "      <td>3</td>\n",
       "      <td>A</td>\n",
       "    </tr>\n",
       "    <tr>\n",
       "      <th>2</th>\n",
       "      <td>0</td>\n",
       "      <td>1</td>\n",
       "      <td>67</td>\n",
       "      <td>1</td>\n",
       "      <td>2</td>\n",
       "      <td>1.0</td>\n",
       "      <td>2</td>\n",
       "      <td>1.0</td>\n",
       "      <td>5</td>\n",
       "      <td>B</td>\n",
       "    </tr>\n",
       "    <tr>\n",
       "      <th>3</th>\n",
       "      <td>1</td>\n",
       "      <td>1</td>\n",
       "      <td>67</td>\n",
       "      <td>1</td>\n",
       "      <td>7</td>\n",
       "      <td>0.0</td>\n",
       "      <td>1</td>\n",
       "      <td>2.0</td>\n",
       "      <td>5</td>\n",
       "      <td>B</td>\n",
       "    </tr>\n",
       "    <tr>\n",
       "      <th>4</th>\n",
       "      <td>0</td>\n",
       "      <td>1</td>\n",
       "      <td>40</td>\n",
       "      <td>1</td>\n",
       "      <td>3</td>\n",
       "      <td>0.0</td>\n",
       "      <td>1</td>\n",
       "      <td>6.0</td>\n",
       "      <td>5</td>\n",
       "      <td>A</td>\n",
       "    </tr>\n",
       "  </tbody>\n",
       "</table>\n",
       "</div>"
      ],
      "text/plain": [
       "   Gender  Ever_Married  Age  Graduated  Profession  Work_Experience  \\\n",
       "0       1             0   22          0           5              1.0   \n",
       "1       0             1   38          1           2              1.0   \n",
       "2       0             1   67          1           2              1.0   \n",
       "3       1             1   67          1           7              0.0   \n",
       "4       0             1   40          1           3              0.0   \n",
       "\n",
       "   Spending_Score  Family_Size  Var_1 Segmentation  \n",
       "0               2          4.0      3            D  \n",
       "1               0          3.0      3            A  \n",
       "2               2          1.0      5            B  \n",
       "3               1          2.0      5            B  \n",
       "4               1          6.0      5            A  "
      ]
     },
     "execution_count": 247,
     "metadata": {},
     "output_type": "execute_result"
    }
   ],
   "source": [
    "df.head()"
   ]
  },
  {
   "cell_type": "code",
   "execution_count": 271,
   "id": "19cfe079-2340-4da0-9cf1-e9f411b4294b",
   "metadata": {},
   "outputs": [
    {
     "data": {
      "text/html": [
       "<div>\n",
       "<style scoped>\n",
       "    .dataframe tbody tr th:only-of-type {\n",
       "        vertical-align: middle;\n",
       "    }\n",
       "\n",
       "    .dataframe tbody tr th {\n",
       "        vertical-align: top;\n",
       "    }\n",
       "\n",
       "    .dataframe thead th {\n",
       "        text-align: right;\n",
       "    }\n",
       "</style>\n",
       "<table border=\"1\" class=\"dataframe\">\n",
       "  <thead>\n",
       "    <tr style=\"text-align: right;\">\n",
       "      <th></th>\n",
       "      <th>Gender</th>\n",
       "      <th>Ever_Married</th>\n",
       "      <th>Age</th>\n",
       "      <th>Graduated</th>\n",
       "      <th>Profession</th>\n",
       "      <th>Work_Experience</th>\n",
       "      <th>Spending_Score</th>\n",
       "      <th>Family_Size</th>\n",
       "      <th>Var_1</th>\n",
       "    </tr>\n",
       "  </thead>\n",
       "  <tbody>\n",
       "    <tr>\n",
       "      <th>count</th>\n",
       "      <td>8068.000000</td>\n",
       "      <td>8068.000000</td>\n",
       "      <td>8068.000000</td>\n",
       "      <td>8068.000000</td>\n",
       "      <td>8068.000000</td>\n",
       "      <td>8068.000000</td>\n",
       "      <td>8068.000000</td>\n",
       "      <td>8068.000000</td>\n",
       "      <td>8068.000000</td>\n",
       "    </tr>\n",
       "    <tr>\n",
       "      <th>mean</th>\n",
       "      <td>0.547471</td>\n",
       "      <td>0.585275</td>\n",
       "      <td>43.466906</td>\n",
       "      <td>0.622335</td>\n",
       "      <td>2.792390</td>\n",
       "      <td>2.618741</td>\n",
       "      <td>1.359941</td>\n",
       "      <td>2.846678</td>\n",
       "      <td>4.138572</td>\n",
       "    </tr>\n",
       "    <tr>\n",
       "      <th>std</th>\n",
       "      <td>0.497772</td>\n",
       "      <td>0.492705</td>\n",
       "      <td>16.711696</td>\n",
       "      <td>0.484833</td>\n",
       "      <td>2.540883</td>\n",
       "      <td>3.394284</td>\n",
       "      <td>0.848418</td>\n",
       "      <td>1.530377</td>\n",
       "      <td>1.425436</td>\n",
       "    </tr>\n",
       "    <tr>\n",
       "      <th>min</th>\n",
       "      <td>0.000000</td>\n",
       "      <td>0.000000</td>\n",
       "      <td>18.000000</td>\n",
       "      <td>0.000000</td>\n",
       "      <td>0.000000</td>\n",
       "      <td>0.000000</td>\n",
       "      <td>0.000000</td>\n",
       "      <td>1.000000</td>\n",
       "      <td>0.000000</td>\n",
       "    </tr>\n",
       "    <tr>\n",
       "      <th>25%</th>\n",
       "      <td>0.000000</td>\n",
       "      <td>0.000000</td>\n",
       "      <td>30.000000</td>\n",
       "      <td>0.000000</td>\n",
       "      <td>0.000000</td>\n",
       "      <td>0.000000</td>\n",
       "      <td>1.000000</td>\n",
       "      <td>2.000000</td>\n",
       "      <td>3.000000</td>\n",
       "    </tr>\n",
       "    <tr>\n",
       "      <th>50%</th>\n",
       "      <td>1.000000</td>\n",
       "      <td>1.000000</td>\n",
       "      <td>40.000000</td>\n",
       "      <td>1.000000</td>\n",
       "      <td>3.000000</td>\n",
       "      <td>1.000000</td>\n",
       "      <td>2.000000</td>\n",
       "      <td>3.000000</td>\n",
       "      <td>5.000000</td>\n",
       "    </tr>\n",
       "    <tr>\n",
       "      <th>75%</th>\n",
       "      <td>1.000000</td>\n",
       "      <td>1.000000</td>\n",
       "      <td>53.000000</td>\n",
       "      <td>1.000000</td>\n",
       "      <td>5.000000</td>\n",
       "      <td>4.000000</td>\n",
       "      <td>2.000000</td>\n",
       "      <td>4.000000</td>\n",
       "      <td>5.000000</td>\n",
       "    </tr>\n",
       "    <tr>\n",
       "      <th>max</th>\n",
       "      <td>1.000000</td>\n",
       "      <td>1.000000</td>\n",
       "      <td>89.000000</td>\n",
       "      <td>1.000000</td>\n",
       "      <td>8.000000</td>\n",
       "      <td>14.000000</td>\n",
       "      <td>2.000000</td>\n",
       "      <td>9.000000</td>\n",
       "      <td>6.000000</td>\n",
       "    </tr>\n",
       "  </tbody>\n",
       "</table>\n",
       "</div>"
      ],
      "text/plain": [
       "            Gender  Ever_Married          Age    Graduated   Profession  \\\n",
       "count  8068.000000   8068.000000  8068.000000  8068.000000  8068.000000   \n",
       "mean      0.547471      0.585275    43.466906     0.622335     2.792390   \n",
       "std       0.497772      0.492705    16.711696     0.484833     2.540883   \n",
       "min       0.000000      0.000000    18.000000     0.000000     0.000000   \n",
       "25%       0.000000      0.000000    30.000000     0.000000     0.000000   \n",
       "50%       1.000000      1.000000    40.000000     1.000000     3.000000   \n",
       "75%       1.000000      1.000000    53.000000     1.000000     5.000000   \n",
       "max       1.000000      1.000000    89.000000     1.000000     8.000000   \n",
       "\n",
       "       Work_Experience  Spending_Score  Family_Size        Var_1  \n",
       "count      8068.000000     8068.000000  8068.000000  8068.000000  \n",
       "mean          2.618741        1.359941     2.846678     4.138572  \n",
       "std           3.394284        0.848418     1.530377     1.425436  \n",
       "min           0.000000        0.000000     1.000000     0.000000  \n",
       "25%           0.000000        1.000000     2.000000     3.000000  \n",
       "50%           1.000000        2.000000     3.000000     5.000000  \n",
       "75%           4.000000        2.000000     4.000000     5.000000  \n",
       "max          14.000000        2.000000     9.000000     6.000000  "
      ]
     },
     "execution_count": 271,
     "metadata": {},
     "output_type": "execute_result"
    }
   ],
   "source": [
    "df.describe()"
   ]
  },
  {
   "cell_type": "markdown",
   "id": "851d7c47-a603-474f-a32d-669b0513196c",
   "metadata": {},
   "source": [
    "### Splitting the dataset"
   ]
  },
  {
   "cell_type": "markdown",
   "id": "f7e35494-27b4-40bb-b4a1-7ec1d18e9824",
   "metadata": {},
   "source": [
    "Instead of simply splitting the dataset into train and test, we use the cross-validation approach here"
   ]
  },
  {
   "cell_type": "code",
   "execution_count": 275,
   "id": "bea69fc3-98cf-4671-a2d0-c51bb18e072d",
   "metadata": {},
   "outputs": [],
   "source": [
    "from sklearn.model_selection import KFold"
   ]
  },
  {
   "cell_type": "code",
   "execution_count": 291,
   "id": "ee2b60f7-ca2f-48b6-9a83-ab3b901546cf",
   "metadata": {},
   "outputs": [],
   "source": [
    "kf = KFold(n_splits = 5, shuffle = True, random_state = 1234) #5 fold cross validation"
   ]
  },
  {
   "cell_type": "code",
   "execution_count": 293,
   "id": "19b4775f-3955-4837-988f-4d5be4dc588e",
   "metadata": {},
   "outputs": [],
   "source": [
    "X = df.drop(\"Segmentation\",axis = 1)\n",
    "y = df[\"Segmentation\"]\n",
    "\n",
    "#splitting features (X: independent variables) and target (y: study variable)"
   ]
  },
  {
   "cell_type": "markdown",
   "id": "d6a47183-5a73-4b7b-9c1d-f55966922f8f",
   "metadata": {},
   "source": [
    "## Training the models"
   ]
  },
  {
   "cell_type": "code",
   "execution_count": 355,
   "id": "004e0f72-94a5-497e-996d-afbdef5cf90b",
   "metadata": {},
   "outputs": [],
   "source": [
    "from sklearn.tree import DecisionTreeClassifier\n",
    "from sklearn.ensemble import RandomForestClassifier"
   ]
  },
  {
   "cell_type": "code",
   "execution_count": 357,
   "id": "d85521eb-c79f-421f-9560-cfdb218ac4d0",
   "metadata": {},
   "outputs": [],
   "source": [
    "dtc = DecisionTreeClassifier(max_depth = 5)\n",
    "#setting a random max depth\n",
    "rf = RandomForestClassifier()"
   ]
  },
  {
   "cell_type": "markdown",
   "id": "41e515c0-3206-4130-ad83-ab9f6cfc7cc6",
   "metadata": {},
   "source": [
    "## Examining the models"
   ]
  },
  {
   "cell_type": "code",
   "execution_count": 360,
   "id": "f3417292-ead1-4b93-8339-eda87be75468",
   "metadata": {},
   "outputs": [],
   "source": [
    "from sklearn.model_selection import cross_val_score\n",
    "from sklearn.metrics import make_scorer, precision_score, recall_score\n",
    "precision_scorer = make_scorer(precision_score, average=\"macro\", zero_division=0)\n",
    "recall_scorer = make_scorer(recall_score, average=\"macro\", zero_division=0)\n",
    "#since y is multiclass"
   ]
  },
  {
   "cell_type": "code",
   "execution_count": 362,
   "id": "97916665-cf61-4e69-922e-159ee2d06175",
   "metadata": {},
   "outputs": [
    {
     "data": {
      "text/plain": [
       "(0.5200818012877095, 0.5036087442785434, 0.5088915117296694)"
      ]
     },
     "execution_count": 362,
     "metadata": {},
     "output_type": "execute_result"
    }
   ],
   "source": [
    "dtc_scores = cross_val_score(dtc, X, y, cv = kf, scoring = \"accuracy\")\n",
    "dtc_pres = cross_val_score(dtc, X, y, cv = kf, scoring = precision_scorer)\n",
    "dtc_recall = cross_val_score(dtc, X, y, cv = kf, scoring = recall_scorer)\n",
    "(dtc_scores.mean(),dtc_pres.mean(),dtc_recall.mean())"
   ]
  },
  {
   "cell_type": "code",
   "execution_count": 363,
   "id": "7e19f70a-e0bc-4e42-bbef-04b3493084d0",
   "metadata": {},
   "outputs": [
    {
     "data": {
      "text/plain": [
       "(0.49219215620296985, 0.4771253814507877, 0.48219460312046963)"
      ]
     },
     "execution_count": 363,
     "metadata": {},
     "output_type": "execute_result"
    }
   ],
   "source": [
    "rf_scores = cross_val_score(rf, X, y, cv = kf, scoring = \"accuracy\")\n",
    "rf_pres = cross_val_score(rf, X, y, cv = kf, scoring = precision_scorer)\n",
    "rf_recall = cross_val_score(rf, X, y, cv = kf, scoring = recall_scorer)\n",
    "(rf_scores.mean(),rf_pres.mean(),rf_recall.mean())"
   ]
  },
  {
   "cell_type": "markdown",
   "id": "28614812-a107-4d38-972d-edd56cf97354",
   "metadata": {},
   "source": [
    "#### We see that our Random Forest underperforms in comparison to a simple decision tree!"
   ]
  },
  {
   "cell_type": "markdown",
   "id": "62c4fd7d-64d1-4543-8872-283309a1943e",
   "metadata": {},
   "source": [
    "## Tuning hyperparameters: using Grid Search and Randomized Search"
   ]
  },
  {
   "cell_type": "code",
   "execution_count": 397,
   "id": "2dd32474-53bc-408b-b93d-e4253ab7dee1",
   "metadata": {},
   "outputs": [],
   "source": [
    "from sklearn.model_selection import GridSearchCV, RandomizedSearchCV"
   ]
  },
  {
   "cell_type": "code",
   "execution_count": 399,
   "id": "49e8e600-5467-46a2-a54e-3ff45e136e49",
   "metadata": {},
   "outputs": [
    {
     "data": {
      "text/plain": [
       "{'max_depth': 5, 'max_features': None, 'min_samples_split': 2}"
      ]
     },
     "execution_count": 399,
     "metadata": {},
     "output_type": "execute_result"
    }
   ],
   "source": [
    "param_grid_dtc = {\n",
    "    \"max_depth\": [None, 5, 10, 20],\n",
    "    \"max_features\": [None,\"sqrt\", \"log2\"],\n",
    "    \"min_samples_split\": [2, 5, 10],\n",
    "}\n",
    "\n",
    "grid_search_dtc = GridSearchCV(dtc, param_grid_dtc, cv = kf, scoring=\"accuracy\")\n",
    "grid_search_dtc.fit(X, y)\n",
    "grid_search_dtc.best_params_"
   ]
  },
  {
   "cell_type": "code",
   "execution_count": 401,
   "id": "9f339939-7a1a-4ad0-8afc-1b54a9e67649",
   "metadata": {},
   "outputs": [
    {
     "data": {
      "text/plain": [
       "{'n_estimators': 100,\n",
       " 'min_samples_split': 2,\n",
       " 'max_features': 'log2',\n",
       " 'max_depth': 10}"
      ]
     },
     "execution_count": 401,
     "metadata": {},
     "output_type": "execute_result"
    }
   ],
   "source": [
    "#for Random Forest, Grid Search takes too long, hence performing Randomized Search\n",
    "param_grid = {\n",
    "    \"n_estimators\": [100, 200, 300],\n",
    "    \"max_depth\": [None, 5, 10, 20],\n",
    "    \"max_features\": [None, \"sqrt\", \"log2\"],\n",
    "    \"min_samples_split\": [2, 5, 10],\n",
    "}\n",
    "\n",
    "random_search = RandomizedSearchCV(rf, param_grid, cv = kf, scoring=\"accuracy\")\n",
    "random_search.fit(X, y)\n",
    "random_search.best_params_"
   ]
  },
  {
   "cell_type": "markdown",
   "id": "04a96cd0-96e1-4325-be0f-c831a6b834a7",
   "metadata": {},
   "source": [
    "## Models using tuned hyperparameters"
   ]
  },
  {
   "cell_type": "code",
   "execution_count": 405,
   "id": "d5dbe1b6-7928-4abc-93af-3cc61868d99a",
   "metadata": {},
   "outputs": [],
   "source": [
    "dtc_best = DecisionTreeClassifier(max_depth = 5, min_samples_split = 2)\n",
    "rf_best = RandomForestClassifier(max_depth = 10, max_features = 'log2', min_samples_split = 2, n_estimators = 100)"
   ]
  },
  {
   "cell_type": "code",
   "execution_count": 407,
   "id": "75f180fb-8a00-4ac6-9a35-394cf9cb0d5f",
   "metadata": {},
   "outputs": [
    {
     "data": {
      "text/plain": [
       "(0.5200818012877095, 0.5345814021914571)"
      ]
     },
     "execution_count": 407,
     "metadata": {},
     "output_type": "execute_result"
    }
   ],
   "source": [
    "dtc_best_scores = cross_val_score(dtc_best, X, y, cv = kf, scoring = \"accuracy\")\n",
    "rf_best_scores = cross_val_score(rf_best, X, y, cv = kf, scoring = \"accuracy\")\n",
    "\n",
    "dtc_best_scores.mean(), rf_best_scores.mean()"
   ]
  },
  {
   "cell_type": "markdown",
   "id": "6c0c9ab0-806b-4ca8-98b1-8234da73d353",
   "metadata": {},
   "source": [
    "Since our hyperparameters for the Decision Tree found via Grid Search are the same as the ones before, the accuracy of the model seems to be maximised at 52.00% (with the considered possible set of parameters in Grid Search).\n",
    "\n",
    "The accuracy of the Random Forest sees an increase from 49% to 53.45%, performing slightly better than the simple Decision Tree."
   ]
  },
  {
   "cell_type": "code",
   "execution_count": null,
   "id": "6e459239-a6a8-4e3e-adfe-111213466257",
   "metadata": {},
   "outputs": [],
   "source": []
  }
 ],
 "metadata": {
  "kernelspec": {
   "display_name": "Python 3 (ipykernel)",
   "language": "python",
   "name": "python3"
  },
  "language_info": {
   "codemirror_mode": {
    "name": "ipython",
    "version": 3
   },
   "file_extension": ".py",
   "mimetype": "text/x-python",
   "name": "python",
   "nbconvert_exporter": "python",
   "pygments_lexer": "ipython3",
   "version": "3.12.4"
  }
 },
 "nbformat": 4,
 "nbformat_minor": 5
}
